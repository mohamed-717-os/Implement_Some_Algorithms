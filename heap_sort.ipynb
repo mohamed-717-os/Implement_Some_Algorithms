{
 "cells": [
  {
   "cell_type": "markdown",
   "id": "ebf6c30d",
   "metadata": {},
   "source": [
    "### Heap Sort Code"
   ]
  },
  {
   "cell_type": "code",
   "execution_count": 19,
   "id": "e8097c7f",
   "metadata": {},
   "outputs": [],
   "source": [
    "def max_heapify(arr, n, i):\n",
    "    \n",
    "    largest = i \n",
    "\n",
    "    left = 2 * i + 1 \n",
    "    right = left + 1 \n",
    "\n",
    "    # knowing the largest node index \n",
    "    if left < n and arr[left] > arr[largest]:\n",
    "        largest = left\n",
    "\n",
    "    if right < n and arr[right] > arr[largest]:\n",
    "        largest = right\n",
    "\n",
    "    # swap and check again\n",
    "    if largest != i:\n",
    "        arr[i], arr[largest] = arr[largest], arr[i]  \n",
    "        max_heapify(arr, n, largest)\n",
    "\n",
    "def build_max_heap(arr):\n",
    "    n = len(arr)\n",
    "    for i in range(n // 2 - 1, -1, -1): # from the last parent to 0\n",
    "        max_heapify(arr, n, i)\n",
    "\n",
    "def heapSort(arr): \n",
    "    n = len(arr)\n",
    "    heap_size = n\n",
    "\n",
    "    build_max_heap(arr)\n",
    "\n",
    "    for i in range(n - 1, 0, -1): # from the last index to 1\n",
    "       # moving the biggest element to the last index\n",
    "        arr[0], arr[i] = arr[i], arr[0] \n",
    "\n",
    "        # then remove the last index from the heap and rebuild the max heap \n",
    "        heap_size -= 1\n",
    "        max_heapify(arr, heap_size, 0)"
   ]
  },
  {
   "cell_type": "markdown",
   "id": "cc26b0ed",
   "metadata": {},
   "source": [
    "### Example"
   ]
  },
  {
   "cell_type": "code",
   "execution_count": 20,
   "id": "77cf7286",
   "metadata": {},
   "outputs": [],
   "source": [
    "arr = [5, 7, 2, 7, 9, 12] \n",
    "heapSort(arr)"
   ]
  },
  {
   "cell_type": "markdown",
   "id": "fff1ca1a",
   "metadata": {},
   "source": [
    "### Printing the result"
   ]
  },
  {
   "cell_type": "code",
   "execution_count": 21,
   "id": "a8f51518",
   "metadata": {},
   "outputs": [
    {
     "name": "stdout",
     "output_type": "stream",
     "text": [
      "Sorted array is:  [2, 5, 7, 7, 9, 12]\n"
     ]
    }
   ],
   "source": [
    "print(\"Sorted array is: \", arr)"
   ]
  },
  {
   "cell_type": "code",
   "execution_count": null,
   "id": "b6c14131",
   "metadata": {},
   "outputs": [],
   "source": []
  }
 ],
 "metadata": {
  "kernelspec": {
   "display_name": "Python 3 (ipykernel)",
   "language": "python",
   "name": "python3"
  },
  "language_info": {
   "codemirror_mode": {
    "name": "ipython",
    "version": 3
   },
   "file_extension": ".py",
   "mimetype": "text/x-python",
   "name": "python",
   "nbconvert_exporter": "python",
   "pygments_lexer": "ipython3",
   "version": "3.10.9"
  }
 },
 "nbformat": 4,
 "nbformat_minor": 5
}
