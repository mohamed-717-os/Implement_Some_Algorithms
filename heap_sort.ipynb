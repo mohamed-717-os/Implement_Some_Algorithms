{
 "cells": [
  {
   "cell_type": "markdown",
   "id": "dd49233a",
   "metadata": {},
   "source": []
  },
  {
   "cell_type": "code",
   "execution_count": 1,
   "id": "e8097c7f",
   "metadata": {},
   "outputs": [],
   "source": [
    "def max_heapify(arr, n, i):\n",
    "    \n",
    "    largest = i \n",
    "\n",
    "    left = 2 * i + 1 \n",
    "    right = left + 1 \n",
    "\n",
    "    # knowing the largest node index \n",
    "    if left < n and arr[left] > arr[largest]:\n",
    "        largest = left\n",
    "\n",
    "    if right < n and arr[right] > arr[largest]:\n",
    "        largest = right\n",
    "\n",
    "    # swap and check again\n",
    "    if largest != i:\n",
    "        arr[i], arr[largest] = arr[largest], arr[i]  \n",
    "        max_heapify(arr, n, largest)\n",
    "\n",
    "def build_max_heap(arr):\n",
    "    n = len(arr)\n",
    "    for i in range(n // 2 - 1, -1, -1): # from the last parent to 0\n",
    "        max_heapify(arr, n, i)\n",
    "\n",
    "def heapSort(arr): \n",
    "    n = len(arr)\n",
    "    heap_size = n\n",
    "\n",
    "    build_max_heap(arr)\n",
    "\n",
    "    for i in range(n - 1, 0, -1): # from the last index to 1\n",
    "       # moving the biggest element to the last index\n",
    "        arr[0], arr[i] = arr[i], arr[0] \n",
    "\n",
    "        # then remove the last index from the heap and rebuild the max heap \n",
    "        heap_size -= 1\n",
    "        max_heapify(arr, heap_size, 0)"
   ]
  },
  {
   "cell_type": "markdown",
   "id": "cc26b0ed",
   "metadata": {},
   "source": [
    "### Example"
   ]
  },
  {
   "cell_type": "code",
   "execution_count": 2,
   "id": "77cf7286",
   "metadata": {},
   "outputs": [],
   "source": [
    "arr = [5, 7, 2, 7, 9, 12] \n",
    "heapSort(arr)"
   ]
  },
  {
   "cell_type": "markdown",
   "id": "fff1ca1a",
   "metadata": {},
   "source": [
    "### printing the result"
   ]
  },
  {
   "cell_type": "code",
   "execution_count": 9,
   "id": "a8f51518",
   "metadata": {},
   "outputs": [
    {
     "name": "stdout",
     "output_type": "stream",
     "text": [
      "Sorted array is:  [2, 5, 7, 7, 9, 12]\n"
     ]
    }
   ],
   "source": [
    "print(\"Sorted array is: \", arr)"
   ]
  },
  {
   "cell_type": "code",
   "execution_count": 16,
   "id": "bf1eb862",
   "metadata": {},
   "outputs": [
    {
     "ename": "ValueError",
     "evalue": "all nodes must have subset_key (default='subset') as data",
     "output_type": "error",
     "traceback": [
      "\u001b[1;31m---------------------------------------------------------------------------\u001b[0m",
      "\u001b[1;31mKeyError\u001b[0m                                  Traceback (most recent call last)",
      "File \u001b[1;32mG:\\Anaconda\\lib\\site-packages\\networkx\\drawing\\layout.py:1080\u001b[0m, in \u001b[0;36mmultipartite_layout\u001b[1;34m(G, subset_key, align, scale, center)\u001b[0m\n\u001b[0;32m   1079\u001b[0m \u001b[38;5;28;01mtry\u001b[39;00m:\n\u001b[1;32m-> 1080\u001b[0m     layer \u001b[38;5;241m=\u001b[39m \u001b[43mdata\u001b[49m\u001b[43m[\u001b[49m\u001b[43msubset_key\u001b[49m\u001b[43m]\u001b[49m\n\u001b[0;32m   1081\u001b[0m \u001b[38;5;28;01mexcept\u001b[39;00m \u001b[38;5;167;01mKeyError\u001b[39;00m:\n",
      "\u001b[1;31mKeyError\u001b[0m: <function draw_heap.<locals>.<lambda> at 0x000002802B7ABA30>",
      "\nDuring handling of the above exception, another exception occurred:\n",
      "\u001b[1;31mValueError\u001b[0m                                Traceback (most recent call last)",
      "Cell \u001b[1;32mIn[16], line 31\u001b[0m\n\u001b[0;32m     28\u001b[0m     plt\u001b[38;5;241m.\u001b[39mtitle(\u001b[38;5;124m\"\u001b[39m\u001b[38;5;124mHeap Visualization\u001b[39m\u001b[38;5;124m\"\u001b[39m)\n\u001b[0;32m     29\u001b[0m     plt\u001b[38;5;241m.\u001b[39mshow()\n\u001b[1;32m---> 31\u001b[0m \u001b[43mdraw_heap\u001b[49m\u001b[43m(\u001b[49m\u001b[43marr\u001b[49m\u001b[43m)\u001b[49m\n",
      "Cell \u001b[1;32mIn[16], line 22\u001b[0m, in \u001b[0;36mdraw_heap\u001b[1;34m(arr)\u001b[0m\n\u001b[0;32m     19\u001b[0m         G\u001b[38;5;241m.\u001b[39madd_edge(arr[i], arr[right_child])\n\u001b[0;32m     21\u001b[0m \u001b[38;5;66;03m# Generate positions for a hierarchical tree layout\u001b[39;00m\n\u001b[1;32m---> 22\u001b[0m pos \u001b[38;5;241m=\u001b[39m \u001b[43mnx\u001b[49m\u001b[38;5;241;43m.\u001b[39;49m\u001b[43mmultipartite_layout\u001b[49m\u001b[43m(\u001b[49m\u001b[43mG\u001b[49m\u001b[43m,\u001b[49m\u001b[43m \u001b[49m\u001b[43msubset_key\u001b[49m\u001b[38;5;241;43m=\u001b[39;49m\u001b[38;5;28;43;01mlambda\u001b[39;49;00m\u001b[43m \u001b[49m\u001b[43mn\u001b[49m\u001b[43m:\u001b[49m\u001b[43m \u001b[49m\u001b[43marr\u001b[49m\u001b[38;5;241;43m.\u001b[39;49m\u001b[43mindex\u001b[49m\u001b[43m(\u001b[49m\u001b[43mn\u001b[49m\u001b[43m)\u001b[49m\u001b[43m)\u001b[49m  \u001b[38;5;66;03m# Tree layout\u001b[39;00m\n\u001b[0;32m     24\u001b[0m \u001b[38;5;66;03m# Draw the graph\u001b[39;00m\n\u001b[0;32m     25\u001b[0m nx\u001b[38;5;241m.\u001b[39mdraw_networkx(G, pos, with_labels\u001b[38;5;241m=\u001b[39m\u001b[38;5;28;01mTrue\u001b[39;00m, node_color\u001b[38;5;241m=\u001b[39m\u001b[38;5;124m\"\u001b[39m\u001b[38;5;124mlightblue\u001b[39m\u001b[38;5;124m\"\u001b[39m, edge_color\u001b[38;5;241m=\u001b[39m\u001b[38;5;124m\"\u001b[39m\u001b[38;5;124mgray\u001b[39m\u001b[38;5;124m\"\u001b[39m, font_weight\u001b[38;5;241m=\u001b[39m\u001b[38;5;124m\"\u001b[39m\u001b[38;5;124mbold\u001b[39m\u001b[38;5;124m\"\u001b[39m, arrowsize\u001b[38;5;241m=\u001b[39m\u001b[38;5;241m15\u001b[39m)\n",
      "File \u001b[1;32mG:\\Anaconda\\lib\\site-packages\\networkx\\drawing\\layout.py:1083\u001b[0m, in \u001b[0;36mmultipartite_layout\u001b[1;34m(G, subset_key, align, scale, center)\u001b[0m\n\u001b[0;32m   1081\u001b[0m     \u001b[38;5;28;01mexcept\u001b[39;00m \u001b[38;5;167;01mKeyError\u001b[39;00m:\n\u001b[0;32m   1082\u001b[0m         msg \u001b[38;5;241m=\u001b[39m \u001b[38;5;124m\"\u001b[39m\u001b[38;5;124mall nodes must have subset_key (default=\u001b[39m\u001b[38;5;124m'\u001b[39m\u001b[38;5;124msubset\u001b[39m\u001b[38;5;124m'\u001b[39m\u001b[38;5;124m) as data\u001b[39m\u001b[38;5;124m\"\u001b[39m\n\u001b[1;32m-> 1083\u001b[0m         \u001b[38;5;28;01mraise\u001b[39;00m \u001b[38;5;167;01mValueError\u001b[39;00m(msg)\n\u001b[0;32m   1084\u001b[0m     layers[layer] \u001b[38;5;241m=\u001b[39m [v] \u001b[38;5;241m+\u001b[39m layers\u001b[38;5;241m.\u001b[39mget(layer, [])\n\u001b[0;32m   1086\u001b[0m \u001b[38;5;66;03m# Sort by layer, if possible\u001b[39;00m\n",
      "\u001b[1;31mValueError\u001b[0m: all nodes must have subset_key (default='subset') as data"
     ]
    }
   ],
   "source": [
    "import networkx as nx\n",
    "import matplotlib.pyplot as plt\n",
    "\n",
    "def draw_heap(arr):\n",
    "    # Create a graph\n",
    "    G = nx.DiGraph()  # Use a directed graph for proper parent-child relationships\n",
    "\n",
    "    # Add edges to the graph based on the heap structure\n",
    "    for i in range(len(arr)):\n",
    "        left_child = 2 * i + 1\n",
    "        right_child = 2 * i + 2\n",
    "\n",
    "        # Check if the left child exists in the array\n",
    "        if left_child < len(arr):\n",
    "            G.add_edge(arr[i], arr[left_child])\n",
    "        \n",
    "        # Check if the right child exists in the array\n",
    "        if right_child < len(arr):\n",
    "            G.add_edge(arr[i], arr[right_child])\n",
    "    \n",
    "    # Generate positions for a hierarchical tree layout\n",
    "    pos = nx.multipartite_layout(G, subset_key=lambda n: arr.index(n))  # Tree layout\n",
    "\n",
    "    # Draw the graph\n",
    "    nx.draw_networkx(G, pos, with_labels=True, node_color=\"lightblue\", edge_color=\"gray\", font_weight=\"bold\", arrowsize=15)\n",
    "\n",
    "    # Display the heap visualization\n",
    "    plt.title(\"Heap Visualization\")\n",
    "    plt.show()\n",
    "    \n",
    "draw_heap(arr)"
   ]
  },
  {
   "cell_type": "code",
   "execution_count": null,
   "id": "8964afea",
   "metadata": {},
   "outputs": [],
   "source": []
  }
 ],
 "metadata": {
  "kernelspec": {
   "display_name": "Python 3 (ipykernel)",
   "language": "python",
   "name": "python3"
  },
  "language_info": {
   "codemirror_mode": {
    "name": "ipython",
    "version": 3
   },
   "file_extension": ".py",
   "mimetype": "text/x-python",
   "name": "python",
   "nbconvert_exporter": "python",
   "pygments_lexer": "ipython3",
   "version": "3.10.9"
  }
 },
 "nbformat": 4,
 "nbformat_minor": 5
}
